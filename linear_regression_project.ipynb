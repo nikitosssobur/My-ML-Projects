{
 "cells": [
  {
   "cell_type": "code",
   "execution_count": 34,
   "metadata": {},
   "outputs": [],
   "source": [
    "import pandas as pd\n",
    "import numpy as np\n",
    "import matplotlib.pyplot as plt\n",
    "from sklearn.model_selection import train_test_split\n",
    "from sklearn.linear_model import LinearRegression\n",
    "from sklearn.metrics import mean_squared_error, r2_score"
   ]
  },
  {
   "cell_type": "code",
   "execution_count": 4,
   "metadata": {},
   "outputs": [
    {
     "name": "stdout",
     "output_type": "stream",
     "text": [
      "<class 'pandas.core.frame.DataFrame'>\n",
      "RangeIndex: 1000 entries, 0 to 999\n",
      "Data columns (total 2 columns):\n",
      " #   Column                Non-Null Count  Dtype  \n",
      "---  ------                --------------  -----  \n",
      " 0   exp(in months)        1000 non-null   float64\n",
      " 1   salary(in thousands)  1000 non-null   float64\n",
      "dtypes: float64(2)\n",
      "memory usage: 15.8 KB\n"
     ]
    }
   ],
   "source": [
    "#Uploading experience-salary dataset\n",
    "exp_sal_data = pd.read_csv(\"Datasets\\Experience-salary.csv\")\n",
    "exp_sal_data.info()"
   ]
  },
  {
   "cell_type": "code",
   "execution_count": 5,
   "metadata": {},
   "outputs": [
    {
     "data": {
      "text/html": [
       "<div>\n",
       "<style scoped>\n",
       "    .dataframe tbody tr th:only-of-type {\n",
       "        vertical-align: middle;\n",
       "    }\n",
       "\n",
       "    .dataframe tbody tr th {\n",
       "        vertical-align: top;\n",
       "    }\n",
       "\n",
       "    .dataframe thead th {\n",
       "        text-align: right;\n",
       "    }\n",
       "</style>\n",
       "<table border=\"1\" class=\"dataframe\">\n",
       "  <thead>\n",
       "    <tr style=\"text-align: right;\">\n",
       "      <th></th>\n",
       "      <th>exp(in months)</th>\n",
       "      <th>salary(in thousands)</th>\n",
       "    </tr>\n",
       "  </thead>\n",
       "  <tbody>\n",
       "    <tr>\n",
       "      <th>0</th>\n",
       "      <td>18.290293</td>\n",
       "      <td>16.521825</td>\n",
       "    </tr>\n",
       "    <tr>\n",
       "      <th>1</th>\n",
       "      <td>17.023407</td>\n",
       "      <td>11.666234</td>\n",
       "    </tr>\n",
       "    <tr>\n",
       "      <th>2</th>\n",
       "      <td>26.343613</td>\n",
       "      <td>23.167255</td>\n",
       "    </tr>\n",
       "    <tr>\n",
       "      <th>3</th>\n",
       "      <td>19.105834</td>\n",
       "      <td>20.877145</td>\n",
       "    </tr>\n",
       "    <tr>\n",
       "      <th>4</th>\n",
       "      <td>27.742516</td>\n",
       "      <td>23.166236</td>\n",
       "    </tr>\n",
       "    <tr>\n",
       "      <th>5</th>\n",
       "      <td>31.671171</td>\n",
       "      <td>32.966251</td>\n",
       "    </tr>\n",
       "    <tr>\n",
       "      <th>6</th>\n",
       "      <td>14.186399</td>\n",
       "      <td>15.294170</td>\n",
       "    </tr>\n",
       "    <tr>\n",
       "      <th>7</th>\n",
       "      <td>29.932845</td>\n",
       "      <td>33.159461</td>\n",
       "    </tr>\n",
       "    <tr>\n",
       "      <th>8</th>\n",
       "      <td>32.841327</td>\n",
       "      <td>32.032653</td>\n",
       "    </tr>\n",
       "    <tr>\n",
       "      <th>9</th>\n",
       "      <td>26.873869</td>\n",
       "      <td>32.347784</td>\n",
       "    </tr>\n",
       "  </tbody>\n",
       "</table>\n",
       "</div>"
      ],
      "text/plain": [
       "   exp(in months)  salary(in thousands)\n",
       "0       18.290293             16.521825\n",
       "1       17.023407             11.666234\n",
       "2       26.343613             23.167255\n",
       "3       19.105834             20.877145\n",
       "4       27.742516             23.166236\n",
       "5       31.671171             32.966251\n",
       "6       14.186399             15.294170\n",
       "7       29.932845             33.159461\n",
       "8       32.841327             32.032653\n",
       "9       26.873869             32.347784"
      ]
     },
     "execution_count": 5,
     "metadata": {},
     "output_type": "execute_result"
    }
   ],
   "source": [
    "exp_sal_data.head(10)"
   ]
  },
  {
   "cell_type": "code",
   "execution_count": 7,
   "metadata": {},
   "outputs": [
    {
     "data": {
      "text/plain": [
       "exp(in months)          False\n",
       "salary(in thousands)    False\n",
       "dtype: bool"
      ]
     },
     "execution_count": 7,
     "metadata": {},
     "output_type": "execute_result"
    }
   ],
   "source": [
    "exp_sal_data.isnull().any()  #checking missing values"
   ]
  },
  {
   "cell_type": "code",
   "execution_count": 12,
   "metadata": {},
   "outputs": [
    {
     "name": "stdout",
     "output_type": "stream",
     "text": [
      "X train data: \n",
      "703    29.209424\n",
      "311    20.023587\n",
      "722    35.373873\n",
      "629    36.433411\n",
      "0      18.290293\n",
      "Name: exp(in months), dtype: float64\n",
      "X test data:  \n",
      "521    36.878305\n",
      "737    18.422093\n",
      "740    45.011941\n",
      "660    33.782173\n",
      "411    15.909033\n",
      "Name: exp(in months), dtype: float64\n",
      "Y train data: \n",
      "703    37.501077\n",
      "311    12.012883\n",
      "722    35.924525\n",
      "629    40.311947\n",
      "0      16.521825\n",
      "Name: salary(in thousands), dtype: float64\n",
      "Y test data:  \n",
      "521    36.878305\n",
      "737    18.422093\n",
      "740    45.011941\n",
      "660    33.782173\n",
      "411    15.909033\n",
      "Name: exp(in months), dtype: float64\n"
     ]
    }
   ],
   "source": [
    "#Dividing dataset by two groups: values of input variable x and values of target variable y\n",
    "x_data, y_data = exp_sal_data['exp(in months)'], exp_sal_data['salary(in thousands)']\n",
    "\n",
    "#Splitting data into train and test samples\n",
    "x_train, x_test, y_train, y_test = train_test_split(x_data, y_data, test_size = 0.33, random_state = 42)\n",
    "print(f'X train data: \\n{x_train.head()}')\n",
    "print(f'X test data:  \\n{x_test.head()}')\n",
    "print(f'Y train data: \\n{y_train.head()}')\n",
    "print(f'Y test data:  \\n{x_test.head()}')\n"
   ]
  },
  {
   "cell_type": "code",
   "execution_count": 28,
   "metadata": {},
   "outputs": [
    {
     "name": "stdout",
     "output_type": "stream",
     "text": [
      "(670,) (330,)\n"
     ]
    }
   ],
   "source": [
    "print(np.shape(x_train), np.shape(x_test))"
   ]
  },
  {
   "cell_type": "code",
   "execution_count": 15,
   "metadata": {},
   "outputs": [
    {
     "name": "stdout",
     "output_type": "stream",
     "text": [
      "Slope coef: 0.8375500720657327, Intercept coef: 4.678492625020063\n"
     ]
    }
   ],
   "source": [
    "#Creating and training model\n",
    "lin_model = LinearRegression(fit_intercept = True)\n",
    "lin_model.fit(np.array(x_train).reshape(-1, 1), y_train)\n",
    "print(f\"Slope coef: {lin_model.coef_[0]}, Intercept coef: {lin_model.intercept_}\")"
   ]
  },
  {
   "cell_type": "code",
   "execution_count": 18,
   "metadata": {},
   "outputs": [
    {
     "data": {
      "text/plain": [
       "<matplotlib.legend.Legend at 0x1d3dc72c970>"
      ]
     },
     "execution_count": 18,
     "metadata": {},
     "output_type": "execute_result"
    },
    {
     "data": {
      "image/png": "[encoded data removed]",
      "text/plain": [
       "<Figure size 1000x600 with 1 Axes>"
      ]
     },
     "metadata": {},
     "output_type": "display_data"
    }
   ],
   "source": [
    "#Predicting values of the target variable by x_test inputs and building graphs \n",
    "y_pred = lin_model.predict(np.array(x_test).reshape(-1, 1))\n",
    "plt.figure(figsize=(10, 6))\n",
    "plt.plot(x_test, y_pred, color = \"black\")\n",
    "plt.scatter(x_test, y_test)\n",
    "plt.xlabel(\"X test data\")\n",
    "plt.ylabel(\"Y data\")\n",
    "plt.legend(['regression line', 'y_test points'])"
   ]
  },
  {
   "cell_type": "code",
   "execution_count": 23,
   "metadata": {},
   "outputs": [
    {
     "data": {
      "text/html": [
       "<div>\n",
       "<style scoped>\n",
       "    .dataframe tbody tr th:only-of-type {\n",
       "        vertical-align: middle;\n",
       "    }\n",
       "\n",
       "    .dataframe tbody tr th {\n",
       "        vertical-align: top;\n",
       "    }\n",
       "\n",
       "    .dataframe thead th {\n",
       "        text-align: right;\n",
       "    }\n",
       "</style>\n",
       "<table border=\"1\" class=\"dataframe\">\n",
       "  <thead>\n",
       "    <tr style=\"text-align: right;\">\n",
       "      <th></th>\n",
       "      <th>y_test</th>\n",
       "      <th>y_predicted</th>\n",
       "    </tr>\n",
       "  </thead>\n",
       "  <tbody>\n",
       "    <tr>\n",
       "      <th>521</th>\n",
       "      <td>25.323189</td>\n",
       "      <td>35.565919</td>\n",
       "    </tr>\n",
       "    <tr>\n",
       "      <th>737</th>\n",
       "      <td>22.371466</td>\n",
       "      <td>20.107918</td>\n",
       "    </tr>\n",
       "    <tr>\n",
       "      <th>740</th>\n",
       "      <td>43.355878</td>\n",
       "      <td>42.378247</td>\n",
       "    </tr>\n",
       "    <tr>\n",
       "      <th>660</th>\n",
       "      <td>30.249273</td>\n",
       "      <td>32.972754</td>\n",
       "    </tr>\n",
       "    <tr>\n",
       "      <th>411</th>\n",
       "      <td>22.018970</td>\n",
       "      <td>18.003104</td>\n",
       "    </tr>\n",
       "    <tr>\n",
       "      <th>678</th>\n",
       "      <td>17.981307</td>\n",
       "      <td>24.430381</td>\n",
       "    </tr>\n",
       "    <tr>\n",
       "      <th>626</th>\n",
       "      <td>24.227325</td>\n",
       "      <td>25.946501</td>\n",
       "    </tr>\n",
       "    <tr>\n",
       "      <th>513</th>\n",
       "      <td>27.071879</td>\n",
       "      <td>24.810249</td>\n",
       "    </tr>\n",
       "    <tr>\n",
       "      <th>859</th>\n",
       "      <td>42.641924</td>\n",
       "      <td>45.594651</td>\n",
       "    </tr>\n",
       "    <tr>\n",
       "      <th>136</th>\n",
       "      <td>27.837351</td>\n",
       "      <td>24.846641</td>\n",
       "    </tr>\n",
       "    <tr>\n",
       "      <th>811</th>\n",
       "      <td>29.907187</td>\n",
       "      <td>13.148703</td>\n",
       "    </tr>\n",
       "    <tr>\n",
       "      <th>76</th>\n",
       "      <td>19.328758</td>\n",
       "      <td>25.662892</td>\n",
       "    </tr>\n",
       "  </tbody>\n",
       "</table>\n",
       "</div>"
      ],
      "text/plain": [
       "        y_test  y_predicted\n",
       "521  25.323189    35.565919\n",
       "737  22.371466    20.107918\n",
       "740  43.355878    42.378247\n",
       "660  30.249273    32.972754\n",
       "411  22.018970    18.003104\n",
       "678  17.981307    24.430381\n",
       "626  24.227325    25.946501\n",
       "513  27.071879    24.810249\n",
       "859  42.641924    45.594651\n",
       "136  27.837351    24.846641\n",
       "811  29.907187    13.148703\n",
       "76   19.328758    25.662892"
      ]
     },
     "execution_count": 23,
     "metadata": {},
     "output_type": "execute_result"
    }
   ],
   "source": [
    "#Comparison of y test values and y predicted values\n",
    "comp_dataframe = pd.DataFrame({'y_test': y_test, 'y_predicted': y_pred})\n",
    "comp_dataframe.head(12)"
   ]
  },
  {
   "cell_type": "code",
   "execution_count": 26,
   "metadata": {},
   "outputs": [
    {
     "data": {
      "text/plain": [
       "y_test         75.840578\n",
       "y_predicted    53.850542\n",
       "dtype: float64"
      ]
     },
     "execution_count": 26,
     "metadata": {},
     "output_type": "execute_result"
    }
   ],
   "source": [
    "#Variances by columns\n",
    "comp_dataframe.var()"
   ]
  },
  {
   "cell_type": "code",
   "execution_count": 35,
   "metadata": {},
   "outputs": [
    {
     "name": "stdout",
     "output_type": "stream",
     "text": [
      "MSE: 27.774667610227983, Determination coeff: 0.6326624918241435\n"
     ]
    }
   ],
   "source": [
    "print(f'MSE: {mean_squared_error(y_test, y_pred)}, Determination coeff: {r2_score(y_test, y_pred)}')"
   ]
  }
 ],
 "metadata": {
  "kernelspec": {
   "display_name": "Python 3",
   "language": "python",
   "name": "python3"
  },
  "language_info": {
   "codemirror_mode": {
    "name": "ipython",
    "version": 3
   },
   "file_extension": ".py",
   "mimetype": "text/x-python",
   "name": "python",
   "nbconvert_exporter": "python",
   "pygments_lexer": "ipython3",
   "version": "3.9.9"
  }
 },
 "nbformat": 4,
 "nbformat_minor": 2
}
