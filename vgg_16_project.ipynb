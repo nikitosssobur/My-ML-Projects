{
  "nbformat": 4,
  "nbformat_minor": 0,
  "metadata": {
    "colab": {
      "provenance": [],
      "gpuType": "T4",
      "authorship_tag": "ABX9TyMnQhTv0L2RgLTRgpe+qEUD",
      "include_colab_link": true
    },
    "kernelspec": {
      "name": "python3",
      "display_name": "Python 3"
    },
    "language_info": {
      "name": "python"
    },
    "accelerator": "GPU"
  },
  "cells": [
    {
      "cell_type": "markdown",
      "metadata": {
        "id": "view-in-github",
        "colab_type": "text"
      },
      "source": [
        "<a href=\"https://colab.research.google.com/github/nikitosssobur/My-ML-Projects/blob/main/vgg_16_project.ipynb\" target=\"_parent\"><img src=\"https://colab.research.google.com/assets/colab-badge.svg\" alt=\"Open In Colab\"/></a>"
      ]
    },
    {
      "cell_type": "code",
      "execution_count": null,
      "metadata": {
        "id": "EIq3Hx_RtAUY"
      },
      "outputs": [],
      "source": [
        "import numpy as np\n",
        "import torch\n",
        "import torch.nn as nn\n",
        "import matplotlib.pyplot as plt\n",
        "import pickle\n",
        "import sys\n",
        "from PIL import Image\n",
        "from google.colab import files\n",
        "from google.colab import drive\n",
        "from torchvision import transforms\n",
        "from sklearn.metrics import accuracy_score, precision_score, recall_score\n",
        "import torch.nn.functional as F\n",
        "from IPython.display import clear_output"
      ]
    },
    {
      "cell_type": "markdown",
      "source": [
        "**Project task: build VGG-16 model for classification of the images from CIFAR-100 dataset to 100 classes.**"
      ],
      "metadata": {
        "id": "tRr4oQZ2geJe"
      }
    },
    {
      "cell_type": "code",
      "source": [
        "#Device info\n",
        "print(torch.cuda.is_available())\n",
        "#drive.mount('/content/drive')\n",
        "print(torch.cuda.device_count())\n",
        "print(torch.cuda.current_device())\n",
        "print(torch.cuda.get_device_name(0))\n",
        "device = torch.device('cuda' if torch.cuda.is_available() else 'cpu')\n",
        "print(device)"
      ],
      "metadata": {
        "id": "J7UUh1XMtXQC",
        "colab": {
          "base_uri": "https://localhost:8080/"
        },
        "outputId": "8373f53f-58b1-4399-8213-d799216d6625"
      },
      "execution_count": null,
      "outputs": [
        {
          "output_type": "stream",
          "name": "stdout",
          "text": [
            "True\n",
            "1\n",
            "0\n",
            "Tesla T4\n",
            "cuda\n"
          ]
        }
      ]
    },
    {
      "cell_type": "code",
      "source": [
        "def unpickle(file):\n",
        "    with open(file, 'rb') as fo:\n",
        "        dictionary = pickle.load(fo, encoding='bytes')\n",
        "        return dictionary"
      ],
      "metadata": {
        "id": "9w42Lb05tXiJ"
      },
      "execution_count": null,
      "outputs": []
    },
    {
      "cell_type": "code",
      "source": [
        "#Unpack the data\n",
        "data_dict = unpickle('/content/sample_data/cifar_data/train')\n",
        "test_data_dict = unpickle('/content/sample_data/cifar_data/test')\n",
        "meta_data_dict = unpickle('/content/sample_data/cifar_data/meta')\n",
        "print(data_dict.keys())\n",
        "print(f'Keys of the meta data dictionary: {meta_data_dict.keys()}')\n",
        "print(f'Number of classes label names: {len(meta_data_dict[b\"fine_label_names\"])}')\n",
        "print(f'Class label names: {meta_data_dict[b\"fine_label_names\"]}')\n",
        "print(f'Number of superclasses label names: {len(meta_data_dict[b\"coarse_label_names\"])}')\n",
        "print(f'Class label names: {meta_data_dict[b\"coarse_label_names\"]}')\n"
      ],
      "metadata": {
        "id": "UniuAVhgtXuJ",
        "colab": {
          "base_uri": "https://localhost:8080/"
        },
        "outputId": "b1557501-9350-4511-e1df-e94c62040922"
      },
      "execution_count": null,
      "outputs": [
        {
          "output_type": "stream",
          "name": "stdout",
          "text": [
            "dict_keys([b'filenames', b'batch_label', b'fine_labels', b'coarse_labels', b'data'])\n",
            "Keys of the meta data dictionary: dict_keys([b'fine_label_names', b'coarse_label_names'])\n",
            "Number of classes label names: 100\n",
            "Class label names: [b'apple', b'aquarium_fish', b'baby', b'bear', b'beaver', b'bed', b'bee', b'beetle', b'bicycle', b'bottle', b'bowl', b'boy', b'bridge', b'bus', b'butterfly', b'camel', b'can', b'castle', b'caterpillar', b'cattle', b'chair', b'chimpanzee', b'clock', b'cloud', b'cockroach', b'couch', b'crab', b'crocodile', b'cup', b'dinosaur', b'dolphin', b'elephant', b'flatfish', b'forest', b'fox', b'girl', b'hamster', b'house', b'kangaroo', b'keyboard', b'lamp', b'lawn_mower', b'leopard', b'lion', b'lizard', b'lobster', b'man', b'maple_tree', b'motorcycle', b'mountain', b'mouse', b'mushroom', b'oak_tree', b'orange', b'orchid', b'otter', b'palm_tree', b'pear', b'pickup_truck', b'pine_tree', b'plain', b'plate', b'poppy', b'porcupine', b'possum', b'rabbit', b'raccoon', b'ray', b'road', b'rocket', b'rose', b'sea', b'seal', b'shark', b'shrew', b'skunk', b'skyscraper', b'snail', b'snake', b'spider', b'squirrel', b'streetcar', b'sunflower', b'sweet_pepper', b'table', b'tank', b'telephone', b'television', b'tiger', b'tractor', b'train', b'trout', b'tulip', b'turtle', b'wardrobe', b'whale', b'willow_tree', b'wolf', b'woman', b'worm']\n",
            "Number of superclasses label names: 20\n",
            "Class label names: [b'aquatic_mammals', b'fish', b'flowers', b'food_containers', b'fruit_and_vegetables', b'household_electrical_devices', b'household_furniture', b'insects', b'large_carnivores', b'large_man-made_outdoor_things', b'large_natural_outdoor_scenes', b'large_omnivores_and_herbivores', b'medium_mammals', b'non-insect_invertebrates', b'people', b'reptiles', b'small_mammals', b'trees', b'vehicles_1', b'vehicles_2']\n"
          ]
        }
      ]
    },
    {
      "cell_type": "code",
      "source": [
        "print(min(data_dict[b'fine_labels']), max(data_dict[b'fine_labels']))\n",
        "classes_labels = np.arange(0, 100)\n",
        "classes_labels"
      ],
      "metadata": {
        "colab": {
          "base_uri": "https://localhost:8080/"
        },
        "id": "8haEp44QMlH2",
        "outputId": "237894b3-418d-4dd5-8867-303f8e885b71"
      },
      "execution_count": null,
      "outputs": [
        {
          "output_type": "stream",
          "name": "stdout",
          "text": [
            "0 99\n"
          ]
        },
        {
          "output_type": "execute_result",
          "data": {
            "text/plain": [
              "array([ 0,  1,  2,  3,  4,  5,  6,  7,  8,  9, 10, 11, 12, 13, 14, 15, 16,\n",
              "       17, 18, 19, 20, 21, 22, 23, 24, 25, 26, 27, 28, 29, 30, 31, 32, 33,\n",
              "       34, 35, 36, 37, 38, 39, 40, 41, 42, 43, 44, 45, 46, 47, 48, 49, 50,\n",
              "       51, 52, 53, 54, 55, 56, 57, 58, 59, 60, 61, 62, 63, 64, 65, 66, 67,\n",
              "       68, 69, 70, 71, 72, 73, 74, 75, 76, 77, 78, 79, 80, 81, 82, 83, 84,\n",
              "       85, 86, 87, 88, 89, 90, 91, 92, 93, 94, 95, 96, 97, 98, 99])"
            ]
          },
          "metadata": {},
          "execution_count": 5
        }
      ]
    },
    {
      "cell_type": "code",
      "source": [
        "def divide_labels_by_classes(data_list, labels):\n",
        "    data = np.array(data_list)\n",
        "    labels_dict = {label: np.where(data == label)[0] for label in labels}\n",
        "    return labels_dict\n",
        "\n",
        "#labels_dict = divide_labels_by_classes(data_dict[b'fine_labels'], classes_labels)\n",
        "#labels_dict[0]\n",
        "train_labels_dict = divide_labels_by_classes(data_dict[b'fine_labels'], classes_labels)\n",
        "test_labels_dict = divide_labels_by_classes(test_data_dict[b'fine_labels'], classes_labels)\n",
        "\n",
        "'''\n",
        "Создай список и посмотри сколько сколько картинок получается по каждому классу\n",
        "'''\n",
        "num_of_images_per_class_train = [len(train_labels_dict[label]) for label in train_labels_dict]\n",
        "num_of_images_per_class_test = [len(test_labels_dict[label]) for label in test_labels_dict]\n",
        "print(num_of_images_per_class_train)\n",
        "print(num_of_images_per_class_test)"
      ],
      "metadata": {
        "colab": {
          "base_uri": "https://localhost:8080/"
        },
        "id": "FNjlrtQypBw-",
        "outputId": "1728128d-8b26-4a71-be4c-9499e67cb7aa"
      },
      "execution_count": null,
      "outputs": [
        {
          "output_type": "stream",
          "name": "stdout",
          "text": [
            "[500, 500, 500, 500, 500, 500, 500, 500, 500, 500, 500, 500, 500, 500, 500, 500, 500, 500, 500, 500, 500, 500, 500, 500, 500, 500, 500, 500, 500, 500, 500, 500, 500, 500, 500, 500, 500, 500, 500, 500, 500, 500, 500, 500, 500, 500, 500, 500, 500, 500, 500, 500, 500, 500, 500, 500, 500, 500, 500, 500, 500, 500, 500, 500, 500, 500, 500, 500, 500, 500, 500, 500, 500, 500, 500, 500, 500, 500, 500, 500, 500, 500, 500, 500, 500, 500, 500, 500, 500, 500, 500, 500, 500, 500, 500, 500, 500, 500, 500, 500]\n",
            "[100, 100, 100, 100, 100, 100, 100, 100, 100, 100, 100, 100, 100, 100, 100, 100, 100, 100, 100, 100, 100, 100, 100, 100, 100, 100, 100, 100, 100, 100, 100, 100, 100, 100, 100, 100, 100, 100, 100, 100, 100, 100, 100, 100, 100, 100, 100, 100, 100, 100, 100, 100, 100, 100, 100, 100, 100, 100, 100, 100, 100, 100, 100, 100, 100, 100, 100, 100, 100, 100, 100, 100, 100, 100, 100, 100, 100, 100, 100, 100, 100, 100, 100, 100, 100, 100, 100, 100, 100, 100, 100, 100, 100, 100, 100, 100, 100, 100, 100, 100]\n"
          ]
        }
      ]
    },
    {
      "cell_type": "code",
      "source": [
        "#Preprocessing pipeline\n",
        "\n",
        "#Function returns numerical data of fixed image for choosen channel (red, green or blue)\n",
        "def get_channel_data(data_dict, img_number, channel):\n",
        "    if channel == 'red':  return data_dict[b'data'][img_number][: 1024]\n",
        "    elif channel == 'blue':   return data_dict[b'data'][img_number][1024 : 2048]\n",
        "    else: return data_dict[b'data'][img_number][2048: ]\n",
        "\n",
        "\n",
        "#Function returns reshaped image (32 x 32)\n",
        "def reshape_img(channel_data, width, height):\n",
        "    return np.reshape(channel_data, (width, height))\n",
        "\n",
        "\n",
        "#Function returns preprocessed image by taken number\n",
        "def image_preprocessing(data_dict, img_number):\n",
        "    red_channel = get_channel_data(data_dict, img_number, 'red')\n",
        "    blue_channel = get_channel_data(data_dict, img_number, 'blue')\n",
        "    green_channel = get_channel_data(data_dict, img_number, 'green')\n",
        "\n",
        "    rc_matrix = reshape_img(red_channel, 32, 32)\n",
        "    bc_matrix = reshape_img(blue_channel, 32, 32)\n",
        "    gc_matrix = reshape_img(green_channel, 32, 32)\n",
        "\n",
        "    red_img = Image.fromarray(rc_matrix, mode=\"L\")\n",
        "    green_img = Image.fromarray(gc_matrix, mode=\"L\")\n",
        "    blue_img = Image.fromarray(bc_matrix, mode=\"L\")\n",
        "\n",
        "    width, height = red_img.size\n",
        "    result_img = Image.new('RGB', (width, height))\n",
        "    result_img.putdata(list(zip(red_img.getdata(), green_img.getdata(), blue_img.getdata())))\n",
        "    return result_img\n",
        "\n",
        "\n",
        "def create_sample(data_dict):\n",
        "    new_data = [image_preprocessing(data_dict, img_number) for img_number in range(len(data_dict[b'data']))]\n",
        "    return new_data\n",
        "\n",
        "\n",
        "def create_batch(data_dict, batch_size):\n",
        "    labels_dict = divide_labels_by_classes(data_dict[b'fine_labels'], classes_labels)\n",
        "    labels_num = len(labels_dict)\n",
        "    images_per_class_num, residual_images_num = batch_size // labels_num, batch_size % labels_num\n",
        "    if images_per_class_num > 0:\n",
        "        for label in iter(labels_dict):\n",
        "            if label == 0:\n",
        "                random_indices = np.random.choice(labels_dict[label], size = images_per_class_num)\n",
        "            else:\n",
        "                random_label_indices = np.random.choice(labels_dict[label], size = images_per_class_num)\n",
        "                random_indices = np.concatenate((random_indices, random_label_indices))\n",
        "\n",
        "        if residual_images_num != 0:\n",
        "            residual_labels = ([np.random.randint(0, labels_num) for i in range(residual_images_num)])\n",
        "            residual_random_indices = np.array([np.random.choice(labels_dict[label]) for labels in residual_labels])\n",
        "            random_indices = np.concatenate((random_indices, residual_random_indices))\n",
        "\n",
        "    else:\n",
        "        random_indices = np.random.choice(data_dict[b'fine_labels'], size = batch_size)\n",
        "\n",
        "    x_data = [image_preprocessing(data_dict, img_num) for img_num in iter(random_indices)]\n",
        "    y_data = torch.tensor([data_dict[b'fine_labels'][i] for i in iter(random_indices)], dtype = torch.long, device = device)\n",
        "    #return [x_data[i] for i in random_indices], y_data[random_indices]\n",
        "    return x_data, y_data\n",
        "\n",
        "\n",
        "def get_unique_indices_by_batches(labels_data, labels_num, epoch_num, batch_size, shuffle_mode = True):\n",
        "    '''\n",
        "    This function excludes already used indices and returns unique batches of images by epoch_num.\n",
        "    labels_data: target label for each input image of the data_dict.\n",
        "    labels_num: general number of classes.\n",
        "    indices: indices of all images in the train sample\n",
        "    labels: indices of labels of the classes\n",
        "    batches_dict: output dictionary in the following format:\n",
        "    'epoch_number'(key): list of indices of random choosen unique images by all classes size of batch_size (value)\n",
        "    images_num_per_class: integer number of images in batch taken from each class\n",
        "    residual_images_num: residual images in the case when batch_size % labels_num != 0\n",
        "    images_num: total number of images from train data which is used in the process of training (without residual images!!)\n",
        "    residual_images_num: number of residue images after integer division from batch size by labels_num\n",
        "    '''\n",
        "    indices, labels, batches_dict = np.arange(len(labels_data)), np.arange(labels_num), {}\n",
        "    images_num_per_class, residual_images_num = batch_size // labels_num, batch_size % labels_num\n",
        "    images_num = images_num_per_class * epoch_num\n",
        "    indices_per_class_dict = divide_labels_by_classes(labels_data, labels)\n",
        "    min_number_of_images_per_class = min(tuple([len(indices_per_class_dict[label]) for label in labels]))\n",
        "    if images_num < min_number_of_images_per_class:\n",
        "        for epoch in range(epoch_num):\n",
        "            if images_num_per_class > 0:\n",
        "                for label in labels:\n",
        "                    if label == 0:\n",
        "                        random_indices = np.random.choice(indices_per_class_dict[0], size = images_num_per_class)\n",
        "                        indices_per_class_dict[0] = np.setdiff1d(indices_per_class_dict[0], random_indices)\n",
        "                    else:\n",
        "                        random_label_indices = np.random.choice(indices_per_class_dict[label], size = images_num_per_class)\n",
        "                        indices_per_class_dict[label] = np.setdiff1d(indices_per_class_dict[label], random_label_indices)\n",
        "                        random_indices = np.concatenate((random_indices, random_label_indices))\n",
        "\n",
        "                if residual_images_num != 0:\n",
        "                    residual_labels = np.random.choice(labels, size = residual_images_num)\n",
        "                    #residual_random_indices = np.array([np.random.choice(indices_per_class_dict[label]) for label in residual_labels])\n",
        "                    for label in residual_labels:\n",
        "                        random_residual_label = np.array([np.random.choice(indices_per_class_dict[label])])\n",
        "                        indices_per_class_dict[label] = np.setdiff1d(indices_per_class_dict[label], random_residual_label)\n",
        "                        random_indices = np.concatenate((random_indices, random_residual_label))\n",
        "\n",
        "            else:\n",
        "                random_indices = np.random.choice(indices, size = batch_size)\n",
        "                indices = np.setdiff1d(indices, random_indices)\n",
        "\n",
        "\n",
        "            if shuffle_mode is True:  np.random.shuffle(random_indices)\n",
        "\n",
        "            batches_dict[epoch] = random_indices\n",
        "    return batches_dict\n",
        "\n",
        "\n",
        "\n",
        "def batch_from_indices(data_dict, indices_list):\n",
        "    x_data = [image_preprocessing(data_dict, img_num) for img_num in iter(indices_list)]\n",
        "    y_data = torch.tensor([data_dict[b'fine_labels'][i] for i in iter(indices_list)], dtype = torch.long, device = device)\n",
        "    return x_data, y_data\n",
        "\n"
      ],
      "metadata": {
        "id": "vLR615XmtX6T"
      },
      "execution_count": null,
      "outputs": []
    },
    {
      "cell_type": "code",
      "source": [
        "indices_by_batches = get_unique_indices_by_batches(data_dict[b'fine_labels'], 100, 10, 400)\n",
        "x_batch_data, y_batch_data = batch_from_indices(data_dict, indices_by_batches[0])\n",
        "#get_unique_indices_by_batches"
      ],
      "metadata": {
        "id": "6bXeZbFJdl62"
      },
      "execution_count": null,
      "outputs": []
    },
    {
      "cell_type": "code",
      "source": [
        "#Image example\n",
        "processed_image = image_preprocessing(data_dict, 10)\n",
        "print(f'Type of the image: {type(processed_image)}')\n",
        "np_image_repres = np.array(processed_image)\n",
        "torch_image_repres = transforms.functional.pil_to_tensor(processed_image)\n",
        "print(f'Shape of the image in np repres: {np.shape(np_image_repres)}')\n",
        "print(f'Form of the image in numpy representation: \\n {np_image_repres}')\n",
        "processed_image\n"
      ],
      "metadata": {
        "id": "WB_hkztYtYOV",
        "colab": {
          "base_uri": "https://localhost:8080/",
          "height": 952
        },
        "outputId": "990ec9c5-958d-4f42-ac20-1876896e4b31"
      },
      "execution_count": null,
      "outputs": [
        {
          "output_type": "stream",
          "name": "stdout",
          "text": [
            "Type of the image: <class 'PIL.Image.Image'>\n",
            "Shape of the image in np repres: (32, 32, 3)\n",
            "Form of the image in numpy representation: \n",
            " [[[ 83 178 132]\n",
            "  [ 67 160 114]\n",
            "  [ 61 154 108]\n",
            "  ...\n",
            "  [  9  57  26]\n",
            "  [ 16  66  34]\n",
            "  [ 35  94  59]]\n",
            "\n",
            " [[ 75 173 124]\n",
            "  [ 71 167 119]\n",
            "  [ 55 152 103]\n",
            "  ...\n",
            "  [ 39 107  67]\n",
            "  [  9  65  28]\n",
            "  [ 12  66  31]]\n",
            "\n",
            " [[ 73 173 121]\n",
            "  [ 68 166 115]\n",
            "  [ 74 172 122]\n",
            "  ...\n",
            "  [ 91 178 132]\n",
            "  [ 53 125  83]\n",
            "  [ 14  70  34]]\n",
            "\n",
            " ...\n",
            "\n",
            " [[159 223 187]\n",
            "  [150 159 146]\n",
            "  [191 143 154]\n",
            "  ...\n",
            "  [152 136 131]\n",
            "  [173 158 143]\n",
            "  [122 150 123]]\n",
            "\n",
            " [[157 202 171]\n",
            "  [155 132 133]\n",
            "  [183 141 152]\n",
            "  ...\n",
            "  [213 159 168]\n",
            "  [196 153 146]\n",
            "  [169 180 157]]\n",
            "\n",
            " [[150 186 160]\n",
            "  [155 122 127]\n",
            "  [179 139 149]\n",
            "  ...\n",
            "  [212 148 159]\n",
            "  [187 135 136]\n",
            "  [148 154 135]]]\n"
          ]
        },
        {
          "output_type": "execute_result",
          "data": {
            "text/plain": [
              "<PIL.Image.Image image mode=RGB size=32x32>"
            ],
            "image/png": "[encoded data removed]"
          },
          "metadata": {},
          "execution_count": 9
        }
      ]
    },
    {
      "cell_type": "code",
      "source": [
        "#Differences between representations\n",
        "print(f'Shape of the image in torch representation: {torch_image_repres.size()}')\n",
        "print(f'Form of the image in torch representation: \\n {torch_image_repres}')\n",
        "print(f'{torch_image_repres[0]}, \\n, {torch_image_repres[0].size()}')"
      ],
      "metadata": {
        "id": "cD27MLcGvHQk",
        "colab": {
          "base_uri": "https://localhost:8080/"
        },
        "outputId": "345ff310-2c5a-4b7d-a47b-8aeeb6f52e6f"
      },
      "execution_count": null,
      "outputs": [
        {
          "output_type": "stream",
          "name": "stdout",
          "text": [
            "Shape of the image in torch representation: torch.Size([3, 32, 32])\n",
            "Form of the image in torch representation: \n",
            " tensor([[[ 83,  67,  61,  ...,   9,  16,  35],\n",
            "         [ 75,  71,  55,  ...,  39,   9,  12],\n",
            "         [ 73,  68,  74,  ...,  91,  53,  14],\n",
            "         ...,\n",
            "         [159, 150, 191,  ..., 152, 173, 122],\n",
            "         [157, 155, 183,  ..., 213, 196, 169],\n",
            "         [150, 155, 179,  ..., 212, 187, 148]],\n",
            "\n",
            "        [[178, 160, 154,  ...,  57,  66,  94],\n",
            "         [173, 167, 152,  ..., 107,  65,  66],\n",
            "         [173, 166, 172,  ..., 178, 125,  70],\n",
            "         ...,\n",
            "         [223, 159, 143,  ..., 136, 158, 150],\n",
            "         [202, 132, 141,  ..., 159, 153, 180],\n",
            "         [186, 122, 139,  ..., 148, 135, 154]],\n",
            "\n",
            "        [[132, 114, 108,  ...,  26,  34,  59],\n",
            "         [124, 119, 103,  ...,  67,  28,  31],\n",
            "         [121, 115, 122,  ..., 132,  83,  34],\n",
            "         ...,\n",
            "         [187, 146, 154,  ..., 131, 143, 123],\n",
            "         [171, 133, 152,  ..., 168, 146, 157],\n",
            "         [160, 127, 149,  ..., 159, 136, 135]]], dtype=torch.uint8)\n",
            "tensor([[ 83,  67,  61,  ...,   9,  16,  35],\n",
            "        [ 75,  71,  55,  ...,  39,   9,  12],\n",
            "        [ 73,  68,  74,  ...,  91,  53,  14],\n",
            "        ...,\n",
            "        [159, 150, 191,  ..., 152, 173, 122],\n",
            "        [157, 155, 183,  ..., 213, 196, 169],\n",
            "        [150, 155, 179,  ..., 212, 187, 148]], dtype=torch.uint8), \n",
            ", torch.Size([32, 32])\n"
          ]
        }
      ]
    },
    {
      "cell_type": "code",
      "source": [
        "#Deeply understanding what is the format of image\n",
        "print(np_image_repres[0], '\\n', np.shape(np_image_repres[0]))\n",
        "print((np.min(np_image_repres), np.max(np_image_repres)))"
      ],
      "metadata": {
        "id": "AtANi4B1nJFQ",
        "colab": {
          "base_uri": "https://localhost:8080/"
        },
        "outputId": "baabb984-dd7c-4b99-a5a7-45c03739b468"
      },
      "execution_count": null,
      "outputs": [
        {
          "output_type": "stream",
          "name": "stdout",
          "text": [
            "[[ 83 178 132]\n",
            " [ 67 160 114]\n",
            " [ 61 154 108]\n",
            " [ 58 155 108]\n",
            " [ 66 165 117]\n",
            " [ 72 171 124]\n",
            " [ 59 158 111]\n",
            " [ 50 151 102]\n",
            " [ 64 167 114]\n",
            " [ 63 166 114]\n",
            " [ 62 165 113]\n",
            " [ 61 165 112]\n",
            " [ 53 160 104]\n",
            " [ 42 149  92]\n",
            " [ 57 164 107]\n",
            " [ 62 169 113]\n",
            " [ 73 171 120]\n",
            " [121 212 165]\n",
            " [137 227 181]\n",
            " [131 222 175]\n",
            " [127 214 171]\n",
            " [112 191 156]\n",
            " [ 72 148 113]\n",
            " [ 64 136 101]\n",
            " [ 94 165 130]\n",
            " [106 187 147]\n",
            " [ 98 177 138]\n",
            " [ 73 141 106]\n",
            " [ 29  85  54]\n",
            " [  9  57  26]\n",
            " [ 16  66  34]\n",
            " [ 35  94  59]] \n",
            " (32, 3)\n",
            "(5, 255)\n"
          ]
        }
      ]
    },
    {
      "cell_type": "code",
      "source": [
        "test_image = image_preprocessing(test_data_dict, 10)\n",
        "test_image"
      ],
      "metadata": {
        "colab": {
          "base_uri": "https://localhost:8080/",
          "height": 49
        },
        "id": "V7ZsIckSyxrc",
        "outputId": "4114a83e-6e79-4db2-b095-412ffa547b6d"
      },
      "execution_count": null,
      "outputs": [
        {
          "output_type": "execute_result",
          "data": {
            "text/plain": [
              "<PIL.Image.Image image mode=RGB size=32x32>"
            ],
            "image/png": "[encoded data removed]"
          },
          "metadata": {},
          "execution_count": 12
        }
      ]
    },
    {
      "cell_type": "code",
      "source": [
        "#Creating random image in the shape of images from dataset for testing our model\n",
        "some_data = torch.randint(0, 255, (3, 32, 32), dtype = torch.uint8)\n",
        "some_data"
      ],
      "metadata": {
        "colab": {
          "base_uri": "https://localhost:8080/"
        },
        "id": "3PW39vBZAMS8",
        "outputId": "ed10e3c5-65ad-447d-c4ca-f11d2699109e"
      },
      "execution_count": null,
      "outputs": [
        {
          "output_type": "execute_result",
          "data": {
            "text/plain": [
              "tensor([[[ 55, 121, 214,  ..., 132,  16,  57],\n",
              "         [213, 201, 100,  ...,  46, 174,  12],\n",
              "         [ 95, 159, 144,  ..., 140, 233, 213],\n",
              "         ...,\n",
              "         [ 70, 139, 125,  ..., 113, 197,  26],\n",
              "         [ 61, 162, 119,  ..., 187, 165, 214],\n",
              "         [ 91,  17, 185,  ..., 122,  61, 220]],\n",
              "\n",
              "        [[ 78, 161, 252,  ..., 158, 241, 119],\n",
              "         [200,   2,  49,  ..., 246, 168,  29],\n",
              "         [129, 199,   0,  ...,   9,  89, 150],\n",
              "         ...,\n",
              "         [ 79, 170,  33,  ...,  76, 235, 201],\n",
              "         [123, 184, 189,  ..., 238, 163, 137],\n",
              "         [ 56,  54, 222,  ..., 166, 175, 249]],\n",
              "\n",
              "        [[157, 152,   6,  ..., 128, 124, 106],\n",
              "         [220, 161,  95,  ...,  95, 133,  85],\n",
              "         [108, 133,  92,  ..., 228,  10,  94],\n",
              "         ...,\n",
              "         [ 72,   3, 225,  ..., 116, 103, 244],\n",
              "         [232,  14,  58,  ...,  65,  29, 201],\n",
              "         [125, 238, 239,  ..., 138,  27, 167]]], dtype=torch.uint8)"
            ]
          },
          "metadata": {},
          "execution_count": 13
        }
      ]
    },
    {
      "cell_type": "markdown",
      "source": [
        "# **Creating models**\n"
      ],
      "metadata": {
        "id": "TmXjRQ37Lnkd"
      }
    },
    {
      "cell_type": "code",
      "source": [
        "#Creating VGG-16 model\n",
        "\n",
        "vgg_transforms = transforms.Compose([transforms.Resize(224), #resizing image to 224 x 224\n",
        "        transforms.ToTensor(), #changing format of image from PIL Image to torch.Tensor\n",
        "        transforms.Normalize((0.485, 0.456, 0.406), (0.229, 0.224, 0.225))]) #normalizing pixels of input image)\n",
        "\n",
        "\n",
        "class ConvNetVGG(nn.Module):\n",
        "    #VGG-16 model implementation\n",
        "    def __init__(self):\n",
        "        #input image shape: 224 x 224 x 3\n",
        "        super().__init__()\n",
        "        self.kernel_size, self.padding, self.pool_kernel_size = (3, 3), (1, 1), (2, 2)\n",
        "        self.classes = 100\n",
        "        channels = (3, 64, 128, 256, 512)\n",
        "        self.dropout = nn.Dropout(p=0.5)\n",
        "        self.relu = nn.ReLU()\n",
        "        self.conv11 = nn.Conv2d(channels[0], channels[1], self.kernel_size, padding = self.padding) #input channels: 3  output channels: 64\n",
        "        self.conv12 = nn.Conv2d(channels[1], channels[1], self.kernel_size, padding = self.padding) #in channels: 64  out channels: 64\n",
        "        self.conv21 = nn.Conv2d(channels[1], channels[2], self.kernel_size, padding = self.padding) #in channels: 64  out channels: 128\n",
        "        self.conv22 = nn.Conv2d(channels[2], channels[2], self.kernel_size, padding = self.padding) #in channels: 128 out channels: 128\n",
        "        self.conv31 = nn.Conv2d(channels[2], channels[3], self.kernel_size, padding = self.padding) #in channels: 128 out channels: 256\n",
        "        self.conv32 = nn.Conv2d(channels[3], channels[3], self.kernel_size, padding = self.padding) #in channels: 256 out channels: 256\n",
        "        self.conv33 = nn.Conv2d(channels[3], channels[4], self.kernel_size, padding = self.padding) #in channels: 256 out channels: 512\n",
        "        self.conv41 = nn.Conv2d(channels[4], channels[4], self.kernel_size, padding = self.padding)\n",
        "        self.conv42 = nn.Conv2d(channels[4], channels[4], self.kernel_size, padding = self.padding)\n",
        "        self.conv43 = nn.Conv2d(channels[4], channels[4], self.kernel_size, padding = self.padding)\n",
        "        self.conv51 = nn.Conv2d(channels[4], channels[4], self.kernel_size, padding = self.padding)\n",
        "        self.conv52 = nn.Conv2d(channels[4], channels[4], self.kernel_size, padding = self.padding)\n",
        "        self.conv53 = nn.Conv2d(channels[4], channels[4], self.kernel_size, padding = self.padding)\n",
        "        self.maxpool = nn.MaxPool2d(self.pool_kernel_size, stride = (2, 2))\n",
        "        self.flatten = torch.flatten  #reference to pytorch function\n",
        "        self.fc1, self.fc2, self.fc3 = nn.Linear(7 * 7 * 512, 4096), nn.Linear(4096, 4096), nn.Linear(4096, self.classes)\n",
        "        #fully connected layers\n",
        "        self.init_weights()\n",
        "\n",
        "\n",
        "    def init_weights(self):\n",
        "        for name, param in self.named_parameters():\n",
        "            #if isinstance(m, nn.Linear):\n",
        "            if 'weight' in name:\n",
        "                nn.init.normal_(param.data, mean = 0, std = 0.01)\n",
        "\n",
        "            elif 'bias' in name:\n",
        "                nn.init.zeros_(param.data)\n",
        "\n",
        "\n",
        "\n",
        "    def forward(self, x):\n",
        "        tr_x = vgg_transforms(x).to(device = device)  #trasformed x  input: x of size (3, 32, 32)\n",
        "        tr_x = tr_x.half()\n",
        "        x1 = self.relu(self.conv11(tr_x))\n",
        "        x2 = self.maxpool(self.relu(self.conv12(x1)))\n",
        "        x3 = self.relu(self.conv21(x2))\n",
        "        x4 = self.maxpool(self.relu(self.conv22(x3)))\n",
        "        x5 = self.relu(self.conv31(x4))\n",
        "        x6 = self.relu(self.conv32(x5))\n",
        "        x7 = self.maxpool(self.relu(self.conv33(x6)))\n",
        "        x8 = self.relu(self.conv41(x7))\n",
        "        x9 = self.relu(self.conv42(x8))\n",
        "        x10 = self.maxpool(self.relu(self.conv43(x9)))\n",
        "        x11 = self.relu(self.conv51(x10))\n",
        "        x12 = self.relu(self.conv52(x11))\n",
        "        x13 = self.maxpool(self.relu(self.conv53(x12)))\n",
        "        x14 = self.relu(self.dropout(self.fc1(self.flatten(x13))))\n",
        "        x15 = self.relu(self.dropout(self.fc2(x14)))\n",
        "        #x16 = nn.Softmax(self.fc3(x15))\n",
        "        #return x16\n",
        "        return self.fc3(x15)\n"
      ],
      "metadata": {
        "id": "kf60vAdHtYc9"
      },
      "execution_count": null,
      "outputs": []
    },
    {
      "cell_type": "code",
      "source": [
        "learning_rate = 0.01\n",
        "weight_decay = 0.0005\n",
        "momentum = 0.9"
      ],
      "metadata": {
        "id": "PTnNUjlFnZVi"
      },
      "execution_count": null,
      "outputs": []
    },
    {
      "cell_type": "code",
      "source": [
        "#Model initialization\n",
        "vgg16_model = ConvNetVGG()\n",
        "loss_function = nn.CrossEntropyLoss()\n",
        "opt = torch.optim.SGD(vgg16_model.parameters(), lr = learning_rate, momentum = momentum, weight_decay = weight_decay)"
      ],
      "metadata": {
        "id": "-KbEGpUBkCXF"
      },
      "execution_count": null,
      "outputs": []
    },
    {
      "cell_type": "code",
      "source": [
        "#Parameters info\n",
        "vgg16_model.to(device)\n",
        "\n",
        "print(\"Before changing weights dtype \\n\")\n",
        "for param in vgg16_model.parameters():\n",
        "    print(param.dtype)\n",
        "\n",
        "for param in vgg16_model.parameters():\n",
        "    param.data = param.data.half()\n",
        "\n",
        "print(\"After changing weights dtype \\n\")\n",
        "for param in vgg16_model.parameters():\n",
        "    print(param.dtype)"
      ],
      "metadata": {
        "id": "MProdS0ydrQV"
      },
      "execution_count": null,
      "outputs": []
    },
    {
      "cell_type": "code",
      "source": [
        "vgg16_model = ConvNetVGG()\n",
        "#print(vgg16_model.forward(some_data))\n",
        "#print(vgg_transforms(some_data))\n",
        "some_data_pil = transforms.functional.to_pil_image(some_data)\n",
        "#transformed_data = vgg_transforms(some_data_pil)\n",
        "#print(transformed_data)\n",
        "\n",
        "#prep_image = vgg16_model.forward(test_image)\n",
        "#prep_image\n",
        "#some_data_preproc = vgg16_model(some_data_pil)\n",
        "some_data_preproc = vgg16_model.forward(some_data_pil)\n",
        "print(torch.argmax(some_data_preproc.dim))\n",
        "some_data_pil"
      ],
      "metadata": {
        "colab": {
          "base_uri": "https://localhost:8080/",
          "height": 407
        },
        "id": "JOksej1SAsqp",
        "outputId": "b3320e6c-910f-4767-8ba2-a889d37fb669"
      },
      "execution_count": null,
      "outputs": [
        {
          "output_type": "error",
          "ename": "RuntimeError",
          "evalue": "Input type (c10::Half) and bias type (float) should be the same",
          "traceback": [
            "\u001b[0;31m---------------------------------------------------------------------------\u001b[0m",
            "\u001b[0;31mRuntimeError\u001b[0m                              Traceback (most recent call last)",
            "\u001b[0;32m<ipython-input-19-9dc60e848102>\u001b[0m in \u001b[0;36m<cell line: 11>\u001b[0;34m()\u001b[0m\n\u001b[1;32m      9\u001b[0m \u001b[0;31m#prep_image\u001b[0m\u001b[0;34m\u001b[0m\u001b[0;34m\u001b[0m\u001b[0m\n\u001b[1;32m     10\u001b[0m \u001b[0;31m#some_data_preproc = vgg16_model(some_data_pil)\u001b[0m\u001b[0;34m\u001b[0m\u001b[0;34m\u001b[0m\u001b[0m\n\u001b[0;32m---> 11\u001b[0;31m \u001b[0msome_data_preproc\u001b[0m \u001b[0;34m=\u001b[0m \u001b[0mvgg16_model\u001b[0m\u001b[0;34m.\u001b[0m\u001b[0mforward\u001b[0m\u001b[0;34m(\u001b[0m\u001b[0msome_data_pil\u001b[0m\u001b[0;34m)\u001b[0m\u001b[0;34m\u001b[0m\u001b[0;34m\u001b[0m\u001b[0m\n\u001b[0m\u001b[1;32m     12\u001b[0m \u001b[0mprint\u001b[0m\u001b[0;34m(\u001b[0m\u001b[0mtorch\u001b[0m\u001b[0;34m.\u001b[0m\u001b[0margmax\u001b[0m\u001b[0;34m(\u001b[0m\u001b[0msome_data_preproc\u001b[0m\u001b[0;34m.\u001b[0m\u001b[0mdim\u001b[0m\u001b[0;34m)\u001b[0m\u001b[0;34m)\u001b[0m\u001b[0;34m\u001b[0m\u001b[0;34m\u001b[0m\u001b[0m\n\u001b[1;32m     13\u001b[0m \u001b[0msome_data_pil\u001b[0m\u001b[0;34m\u001b[0m\u001b[0;34m\u001b[0m\u001b[0m\n",
            "\u001b[0;32m<ipython-input-14-4988130aee27>\u001b[0m in \u001b[0;36mforward\u001b[0;34m(self, x)\u001b[0m\n\u001b[1;32m     49\u001b[0m         \u001b[0mtr_x\u001b[0m \u001b[0;34m=\u001b[0m \u001b[0mvgg_transforms\u001b[0m\u001b[0;34m(\u001b[0m\u001b[0mx\u001b[0m\u001b[0;34m)\u001b[0m\u001b[0;34m.\u001b[0m\u001b[0mto\u001b[0m\u001b[0;34m(\u001b[0m\u001b[0mdevice\u001b[0m \u001b[0;34m=\u001b[0m \u001b[0mdevice\u001b[0m\u001b[0;34m)\u001b[0m  \u001b[0;31m#trasformed x  input: x of size (3, 32, 32)\u001b[0m\u001b[0;34m\u001b[0m\u001b[0;34m\u001b[0m\u001b[0m\n\u001b[1;32m     50\u001b[0m         \u001b[0mtr_x\u001b[0m \u001b[0;34m=\u001b[0m \u001b[0mtr_x\u001b[0m\u001b[0;34m.\u001b[0m\u001b[0mhalf\u001b[0m\u001b[0;34m(\u001b[0m\u001b[0;34m)\u001b[0m\u001b[0;34m\u001b[0m\u001b[0;34m\u001b[0m\u001b[0m\n\u001b[0;32m---> 51\u001b[0;31m         \u001b[0mx1\u001b[0m \u001b[0;34m=\u001b[0m \u001b[0mself\u001b[0m\u001b[0;34m.\u001b[0m\u001b[0mrelu\u001b[0m\u001b[0;34m(\u001b[0m\u001b[0mself\u001b[0m\u001b[0;34m.\u001b[0m\u001b[0mconv11\u001b[0m\u001b[0;34m(\u001b[0m\u001b[0mtr_x\u001b[0m\u001b[0;34m)\u001b[0m\u001b[0;34m)\u001b[0m\u001b[0;34m\u001b[0m\u001b[0;34m\u001b[0m\u001b[0m\n\u001b[0m\u001b[1;32m     52\u001b[0m         \u001b[0mx2\u001b[0m \u001b[0;34m=\u001b[0m \u001b[0mself\u001b[0m\u001b[0;34m.\u001b[0m\u001b[0mmaxpool\u001b[0m\u001b[0;34m(\u001b[0m\u001b[0mself\u001b[0m\u001b[0;34m.\u001b[0m\u001b[0mrelu\u001b[0m\u001b[0;34m(\u001b[0m\u001b[0mself\u001b[0m\u001b[0;34m.\u001b[0m\u001b[0mconv12\u001b[0m\u001b[0;34m(\u001b[0m\u001b[0mx1\u001b[0m\u001b[0;34m)\u001b[0m\u001b[0;34m)\u001b[0m\u001b[0;34m)\u001b[0m\u001b[0;34m\u001b[0m\u001b[0;34m\u001b[0m\u001b[0m\n\u001b[1;32m     53\u001b[0m         \u001b[0mx3\u001b[0m \u001b[0;34m=\u001b[0m \u001b[0mself\u001b[0m\u001b[0;34m.\u001b[0m\u001b[0mrelu\u001b[0m\u001b[0;34m(\u001b[0m\u001b[0mself\u001b[0m\u001b[0;34m.\u001b[0m\u001b[0mconv21\u001b[0m\u001b[0;34m(\u001b[0m\u001b[0mx2\u001b[0m\u001b[0;34m)\u001b[0m\u001b[0;34m)\u001b[0m\u001b[0;34m\u001b[0m\u001b[0;34m\u001b[0m\u001b[0m\n",
            "\u001b[0;32m/usr/local/lib/python3.10/dist-packages/torch/nn/modules/module.py\u001b[0m in \u001b[0;36m_wrapped_call_impl\u001b[0;34m(self, *args, **kwargs)\u001b[0m\n\u001b[1;32m   1516\u001b[0m             \u001b[0;32mreturn\u001b[0m \u001b[0mself\u001b[0m\u001b[0;34m.\u001b[0m\u001b[0m_compiled_call_impl\u001b[0m\u001b[0;34m(\u001b[0m\u001b[0;34m*\u001b[0m\u001b[0margs\u001b[0m\u001b[0;34m,\u001b[0m \u001b[0;34m**\u001b[0m\u001b[0mkwargs\u001b[0m\u001b[0;34m)\u001b[0m  \u001b[0;31m# type: ignore[misc]\u001b[0m\u001b[0;34m\u001b[0m\u001b[0;34m\u001b[0m\u001b[0m\n\u001b[1;32m   1517\u001b[0m         \u001b[0;32melse\u001b[0m\u001b[0;34m:\u001b[0m\u001b[0;34m\u001b[0m\u001b[0;34m\u001b[0m\u001b[0m\n\u001b[0;32m-> 1518\u001b[0;31m             \u001b[0;32mreturn\u001b[0m \u001b[0mself\u001b[0m\u001b[0;34m.\u001b[0m\u001b[0m_call_impl\u001b[0m\u001b[0;34m(\u001b[0m\u001b[0;34m*\u001b[0m\u001b[0margs\u001b[0m\u001b[0;34m,\u001b[0m \u001b[0;34m**\u001b[0m\u001b[0mkwargs\u001b[0m\u001b[0;34m)\u001b[0m\u001b[0;34m\u001b[0m\u001b[0;34m\u001b[0m\u001b[0m\n\u001b[0m\u001b[1;32m   1519\u001b[0m \u001b[0;34m\u001b[0m\u001b[0m\n\u001b[1;32m   1520\u001b[0m     \u001b[0;32mdef\u001b[0m \u001b[0m_call_impl\u001b[0m\u001b[0;34m(\u001b[0m\u001b[0mself\u001b[0m\u001b[0;34m,\u001b[0m \u001b[0;34m*\u001b[0m\u001b[0margs\u001b[0m\u001b[0;34m,\u001b[0m \u001b[0;34m**\u001b[0m\u001b[0mkwargs\u001b[0m\u001b[0;34m)\u001b[0m\u001b[0;34m:\u001b[0m\u001b[0;34m\u001b[0m\u001b[0;34m\u001b[0m\u001b[0m\n",
            "\u001b[0;32m/usr/local/lib/python3.10/dist-packages/torch/nn/modules/module.py\u001b[0m in \u001b[0;36m_call_impl\u001b[0;34m(self, *args, **kwargs)\u001b[0m\n\u001b[1;32m   1525\u001b[0m                 \u001b[0;32mor\u001b[0m \u001b[0m_global_backward_pre_hooks\u001b[0m \u001b[0;32mor\u001b[0m \u001b[0m_global_backward_hooks\u001b[0m\u001b[0;34m\u001b[0m\u001b[0;34m\u001b[0m\u001b[0m\n\u001b[1;32m   1526\u001b[0m                 or _global_forward_hooks or _global_forward_pre_hooks):\n\u001b[0;32m-> 1527\u001b[0;31m             \u001b[0;32mreturn\u001b[0m \u001b[0mforward_call\u001b[0m\u001b[0;34m(\u001b[0m\u001b[0;34m*\u001b[0m\u001b[0margs\u001b[0m\u001b[0;34m,\u001b[0m \u001b[0;34m**\u001b[0m\u001b[0mkwargs\u001b[0m\u001b[0;34m)\u001b[0m\u001b[0;34m\u001b[0m\u001b[0;34m\u001b[0m\u001b[0m\n\u001b[0m\u001b[1;32m   1528\u001b[0m \u001b[0;34m\u001b[0m\u001b[0m\n\u001b[1;32m   1529\u001b[0m         \u001b[0;32mtry\u001b[0m\u001b[0;34m:\u001b[0m\u001b[0;34m\u001b[0m\u001b[0;34m\u001b[0m\u001b[0m\n",
            "\u001b[0;32m/usr/local/lib/python3.10/dist-packages/torch/nn/modules/conv.py\u001b[0m in \u001b[0;36mforward\u001b[0;34m(self, input)\u001b[0m\n\u001b[1;32m    458\u001b[0m \u001b[0;34m\u001b[0m\u001b[0m\n\u001b[1;32m    459\u001b[0m     \u001b[0;32mdef\u001b[0m \u001b[0mforward\u001b[0m\u001b[0;34m(\u001b[0m\u001b[0mself\u001b[0m\u001b[0;34m,\u001b[0m \u001b[0minput\u001b[0m\u001b[0;34m:\u001b[0m \u001b[0mTensor\u001b[0m\u001b[0;34m)\u001b[0m \u001b[0;34m->\u001b[0m \u001b[0mTensor\u001b[0m\u001b[0;34m:\u001b[0m\u001b[0;34m\u001b[0m\u001b[0;34m\u001b[0m\u001b[0m\n\u001b[0;32m--> 460\u001b[0;31m         \u001b[0;32mreturn\u001b[0m \u001b[0mself\u001b[0m\u001b[0;34m.\u001b[0m\u001b[0m_conv_forward\u001b[0m\u001b[0;34m(\u001b[0m\u001b[0minput\u001b[0m\u001b[0;34m,\u001b[0m \u001b[0mself\u001b[0m\u001b[0;34m.\u001b[0m\u001b[0mweight\u001b[0m\u001b[0;34m,\u001b[0m \u001b[0mself\u001b[0m\u001b[0;34m.\u001b[0m\u001b[0mbias\u001b[0m\u001b[0;34m)\u001b[0m\u001b[0;34m\u001b[0m\u001b[0;34m\u001b[0m\u001b[0m\n\u001b[0m\u001b[1;32m    461\u001b[0m \u001b[0;34m\u001b[0m\u001b[0m\n\u001b[1;32m    462\u001b[0m \u001b[0;32mclass\u001b[0m \u001b[0mConv3d\u001b[0m\u001b[0;34m(\u001b[0m\u001b[0m_ConvNd\u001b[0m\u001b[0;34m)\u001b[0m\u001b[0;34m:\u001b[0m\u001b[0;34m\u001b[0m\u001b[0;34m\u001b[0m\u001b[0m\n",
            "\u001b[0;32m/usr/local/lib/python3.10/dist-packages/torch/nn/modules/conv.py\u001b[0m in \u001b[0;36m_conv_forward\u001b[0;34m(self, input, weight, bias)\u001b[0m\n\u001b[1;32m    454\u001b[0m                             \u001b[0mweight\u001b[0m\u001b[0;34m,\u001b[0m \u001b[0mbias\u001b[0m\u001b[0;34m,\u001b[0m \u001b[0mself\u001b[0m\u001b[0;34m.\u001b[0m\u001b[0mstride\u001b[0m\u001b[0;34m,\u001b[0m\u001b[0;34m\u001b[0m\u001b[0;34m\u001b[0m\u001b[0m\n\u001b[1;32m    455\u001b[0m                             _pair(0), self.dilation, self.groups)\n\u001b[0;32m--> 456\u001b[0;31m         return F.conv2d(input, weight, bias, self.stride,\n\u001b[0m\u001b[1;32m    457\u001b[0m                         self.padding, self.dilation, self.groups)\n\u001b[1;32m    458\u001b[0m \u001b[0;34m\u001b[0m\u001b[0m\n",
            "\u001b[0;31mRuntimeError\u001b[0m: Input type (c10::Half) and bias type (float) should be the same"
          ]
        }
      ]
    },
    {
      "cell_type": "code",
      "source": [
        "def get_batch_prediction(model, batch, mode = 'train'):\n",
        "    if mode == 'train':\n",
        "        logits_list = [model(image).requires_grad_() for image in batch]\n",
        "        prediction = torch.stack(logits_list).to(device = device) #prediction: tensor of batch logits\n",
        "    else:\n",
        "        prediction = [torch.argmax(nn.Softmax(model(image)).dim) for image in batch] #prediction: list of the most probable labels\n",
        "    return prediction\n",
        "\n",
        "\n",
        "def random_predict(batch_size):\n",
        "    rand_batch = []\n",
        "    for i in iter(range(batch_size)):\n",
        "        random_tensor = torch.randint(0, 255, (3, 32, 32), dtype = torch.uint8)\n",
        "        random_image_pil = transforms.functional.to_pil_image(random_tensor)\n",
        "        rand_batch.append(random_image_pil)\n",
        "\n",
        "    rand_predict = get_batch_prediction(vgg16_model, rand_batch)\n",
        "    return rand_predict\n",
        "\n",
        "#rand_predict = random_predict(30)\n",
        "#rand_predict"
      ],
      "metadata": {
        "id": "61udqA6vMgtH"
      },
      "execution_count": null,
      "outputs": []
    },
    {
      "cell_type": "code",
      "source": [],
      "metadata": {
        "id": "_u1qceMdAuuV"
      },
      "execution_count": null,
      "outputs": []
    },
    {
      "cell_type": "code",
      "source": [
        "EPOCH_NUM = 70\n",
        "train_loss_history, test_loss_history = [], []\n",
        "x_train, y_train = create_sample(data_dict), data_dict[b'fine_labels']\n",
        "x_test, y_test = create_sample(test_data_dict), test_data_dict[b'fine_labels']\n",
        "batch_size = 256"
      ],
      "metadata": {
        "id": "vDqe9LHcCx9h"
      },
      "execution_count": null,
      "outputs": []
    },
    {
      "cell_type": "code",
      "source": [
        "print(type(y_train))"
      ],
      "metadata": {
        "id": "gHOrLkUgD8CQ"
      },
      "execution_count": null,
      "outputs": []
    },
    {
      "cell_type": "code",
      "source": [
        "opt.zero_grad()\n",
        "x_train_batch, y_train_batch = create_batch(x_train, y_train, 10)\n",
        "y_batch_predicted = get_batch_prediction(vgg16_model, x_train_batch)\n",
        "print(type(y_train_batch), type(y_batch_predicted))\n",
        "print(y_train_batch)\n",
        "print(y_batch_predicted)\n",
        "print(torch.tensor(y_train_batch).size(), y_batch_predicted.size())\n",
        "loss_ = loss_function.forward(y_batch_predicted, torch.tensor(y_train_batch, dtype=torch.float))"
      ],
      "metadata": {
        "id": "Wn3BEUlkC2I_"
      },
      "execution_count": null,
      "outputs": []
    },
    {
      "cell_type": "code",
      "source": [
        "#Preparing for training process (setting hyperparameters etc.)\n",
        "EPOCH_NUM = 90\n",
        "batch_size = 280\n",
        "#epsilon = 0.00001\n",
        "indices_by_batches = get_unique_indices_by_batches(data_dict[b'fine_labels'], 100, EPOCH_NUM, batch_size)\n",
        "indices_by_test_batches = get_unique_indices_by_batches(test_data_dict[b'fine_labels'], 100, EPOCH_NUM, 90)\n",
        "train_loss_history, test_loss_history = [], []\n",
        "#epsilon = 0.000001\n",
        "vgg16_model.train()"
      ],
      "metadata": {
        "colab": {
          "base_uri": "https://localhost:8080/"
        },
        "id": "TTzofwAwPDVF",
        "outputId": "d849184c-344a-422c-97fe-616556b75eb6"
      },
      "execution_count": null,
      "outputs": [
        {
          "output_type": "execute_result",
          "data": {
            "text/plain": [
              "ConvNetVGG(\n",
              "  (dropout): Dropout(p=0.5, inplace=False)\n",
              "  (relu): ReLU()\n",
              "  (conv11): Conv2d(3, 64, kernel_size=(3, 3), stride=(1, 1), padding=(1, 1))\n",
              "  (conv12): Conv2d(64, 64, kernel_size=(3, 3), stride=(1, 1), padding=(1, 1))\n",
              "  (conv21): Conv2d(64, 128, kernel_size=(3, 3), stride=(1, 1), padding=(1, 1))\n",
              "  (conv22): Conv2d(128, 128, kernel_size=(3, 3), stride=(1, 1), padding=(1, 1))\n",
              "  (conv31): Conv2d(128, 256, kernel_size=(3, 3), stride=(1, 1), padding=(1, 1))\n",
              "  (conv32): Conv2d(256, 256, kernel_size=(3, 3), stride=(1, 1), padding=(1, 1))\n",
              "  (conv33): Conv2d(256, 512, kernel_size=(3, 3), stride=(1, 1), padding=(1, 1))\n",
              "  (conv41): Conv2d(512, 512, kernel_size=(3, 3), stride=(1, 1), padding=(1, 1))\n",
              "  (conv42): Conv2d(512, 512, kernel_size=(3, 3), stride=(1, 1), padding=(1, 1))\n",
              "  (conv43): Conv2d(512, 512, kernel_size=(3, 3), stride=(1, 1), padding=(1, 1))\n",
              "  (conv51): Conv2d(512, 512, kernel_size=(3, 3), stride=(1, 1), padding=(1, 1))\n",
              "  (conv52): Conv2d(512, 512, kernel_size=(3, 3), stride=(1, 1), padding=(1, 1))\n",
              "  (conv53): Conv2d(512, 512, kernel_size=(3, 3), stride=(1, 1), padding=(1, 1))\n",
              "  (maxpool): MaxPool2d(kernel_size=(2, 2), stride=(2, 2), padding=0, dilation=1, ceil_mode=False)\n",
              "  (fc1): Linear(in_features=25088, out_features=4096, bias=True)\n",
              "  (fc2): Linear(in_features=4096, out_features=4096, bias=True)\n",
              "  (fc3): Linear(in_features=4096, out_features=100, bias=True)\n",
              ")"
            ]
          },
          "metadata": {},
          "execution_count": 17
        }
      ]
    },
    {
      "cell_type": "code",
      "source": [
        "#Training VGG16 model\n",
        "#EPOCH_NUM = 70\n",
        "#EPOCH_NUM = 170\n",
        "#train_loss_history, test_loss_history = [], []\n",
        "#x_train, y_train = create_sample(data_dict), data_dict[b'fine_labels']\n",
        "#x_test, y_test = create_sample(test_data_dict), test_data_dict[b'fine_labels']\n",
        "#batch_size = 250\n",
        "#batch_size = 250\n",
        "#epsilon = 0.000001\n",
        "\n",
        "#indices_by_batches = get_unique_indices_by_batches(data_dict[b'fine_labels'], 100, EPOCH_NUM, batch_size)\n",
        "#batch_from_indices(data_dict, indices_by_batches[epoch_num])\n",
        "\n",
        "for epoch_num in range(EPOCH_NUM):\n",
        "    opt.zero_grad()\n",
        "    #x_train_batch, y_train_batch = create_batch(x_train, y_train, train_labels_dict, batch_size)\n",
        "    #x_train_batch, y_train_batch = create_batch(data_dict, batch_size)\n",
        "    x_train_batch, y_train_batch = batch_from_indices(data_dict, indices_by_batches[epoch_num])\n",
        "    y_batch_predicted = get_batch_prediction(vgg16_model, x_train_batch)\n",
        "    loss = loss_function(y_batch_predicted, y_train_batch)\n",
        "    loss.backward()\n",
        "    opt.step()\n",
        "    train_loss_history.append(loss.item())\n",
        "\n",
        "    with torch.no_grad():\n",
        "        #x_test_batch, y_test_batch = create_batch(x_test, y_test, test_labels_dict, 100)\n",
        "        #x_test_batch, y_test_batch = create_batch(test_data_dict, 100)\n",
        "        x_test_batch, y_test_batch = batch_from_indices(test_data_dict, indices_by_test_batches[epoch_num])\n",
        "        y_predicted_test = get_batch_prediction(vgg16_model, x_test_batch)\n",
        "        test_loss_history.append(loss_function(y_predicted_test, y_test_batch).item())\n",
        "\n",
        "    '''\n",
        "    if epoch_num > 1 and abs(train_loss_history[-1] - train_loss_history[-2]) < epsilon:\n",
        "        opt.param_groups[0]['lr'] /= 1.1\n",
        "        #opt.param_groups[0]['weight_decay'] /= 1.5\n",
        "    '''\n",
        "\n",
        "    clear_output(True)\n",
        "    plt.plot(np.arange(len(train_loss_history)), train_loss_history, label='train')\n",
        "    plt.plot(np.arange(len(test_loss_history)), test_loss_history, label='test')\n",
        "    plt.title('CrossEntropy Loss')\n",
        "    plt.legend()\n",
        "    plt.show()"
      ],
      "metadata": {
        "id": "f5zRC-bBz94Y",
        "colab": {
          "base_uri": "https://localhost:8080/",
          "height": 860
        },
        "outputId": "9d76e204-bd6b-4733-f8ef-8ccc0e6002de"
      },
      "execution_count": null,
      "outputs": [
        {
          "output_type": "display_data",
          "data": {
            "text/plain": [
              "<Figure size 640x480 with 1 Axes>"
            ],
            "image/png": "[encoded data removed]"
          },
          "metadata": {}
        },
        {
          "output_type": "error",
          "ename": "KeyboardInterrupt",
          "evalue": "",
          "traceback": [
            "\u001b[0;31m---------------------------------------------------------------------------\u001b[0m",
            "\u001b[0;31mKeyboardInterrupt\u001b[0m                         Traceback (most recent call last)",
            "\u001b[0;32m<ipython-input-18-dd805a05fd17>\u001b[0m in \u001b[0;36m<cell line: 14>\u001b[0;34m()\u001b[0m\n\u001b[1;32m     19\u001b[0m     \u001b[0my_batch_predicted\u001b[0m \u001b[0;34m=\u001b[0m \u001b[0mget_batch_prediction\u001b[0m\u001b[0;34m(\u001b[0m\u001b[0mvgg16_model\u001b[0m\u001b[0;34m,\u001b[0m \u001b[0mx_train_batch\u001b[0m\u001b[0;34m)\u001b[0m\u001b[0;34m\u001b[0m\u001b[0;34m\u001b[0m\u001b[0m\n\u001b[1;32m     20\u001b[0m     \u001b[0mloss\u001b[0m \u001b[0;34m=\u001b[0m \u001b[0mloss_function\u001b[0m\u001b[0;34m(\u001b[0m\u001b[0my_batch_predicted\u001b[0m\u001b[0;34m,\u001b[0m \u001b[0my_train_batch\u001b[0m\u001b[0;34m)\u001b[0m\u001b[0;34m\u001b[0m\u001b[0;34m\u001b[0m\u001b[0m\n\u001b[0;32m---> 21\u001b[0;31m     \u001b[0mloss\u001b[0m\u001b[0;34m.\u001b[0m\u001b[0mbackward\u001b[0m\u001b[0;34m(\u001b[0m\u001b[0;34m)\u001b[0m\u001b[0;34m\u001b[0m\u001b[0;34m\u001b[0m\u001b[0m\n\u001b[0m\u001b[1;32m     22\u001b[0m     \u001b[0mopt\u001b[0m\u001b[0;34m.\u001b[0m\u001b[0mstep\u001b[0m\u001b[0;34m(\u001b[0m\u001b[0;34m)\u001b[0m\u001b[0;34m\u001b[0m\u001b[0;34m\u001b[0m\u001b[0m\n\u001b[1;32m     23\u001b[0m     \u001b[0mtrain_loss_history\u001b[0m\u001b[0;34m.\u001b[0m\u001b[0mappend\u001b[0m\u001b[0;34m(\u001b[0m\u001b[0mloss\u001b[0m\u001b[0;34m.\u001b[0m\u001b[0mitem\u001b[0m\u001b[0;34m(\u001b[0m\u001b[0;34m)\u001b[0m\u001b[0;34m)\u001b[0m\u001b[0;34m\u001b[0m\u001b[0;34m\u001b[0m\u001b[0m\n",
            "\u001b[0;32m/usr/local/lib/python3.10/dist-packages/torch/_tensor.py\u001b[0m in \u001b[0;36mbackward\u001b[0;34m(self, gradient, retain_graph, create_graph, inputs)\u001b[0m\n\u001b[1;32m    490\u001b[0m                 \u001b[0minputs\u001b[0m\u001b[0;34m=\u001b[0m\u001b[0minputs\u001b[0m\u001b[0;34m,\u001b[0m\u001b[0;34m\u001b[0m\u001b[0;34m\u001b[0m\u001b[0m\n\u001b[1;32m    491\u001b[0m             )\n\u001b[0;32m--> 492\u001b[0;31m         torch.autograd.backward(\n\u001b[0m\u001b[1;32m    493\u001b[0m             \u001b[0mself\u001b[0m\u001b[0;34m,\u001b[0m \u001b[0mgradient\u001b[0m\u001b[0;34m,\u001b[0m \u001b[0mretain_graph\u001b[0m\u001b[0;34m,\u001b[0m \u001b[0mcreate_graph\u001b[0m\u001b[0;34m,\u001b[0m \u001b[0minputs\u001b[0m\u001b[0;34m=\u001b[0m\u001b[0minputs\u001b[0m\u001b[0;34m\u001b[0m\u001b[0;34m\u001b[0m\u001b[0m\n\u001b[1;32m    494\u001b[0m         )\n",
            "\u001b[0;32m/usr/local/lib/python3.10/dist-packages/torch/autograd/__init__.py\u001b[0m in \u001b[0;36mbackward\u001b[0;34m(tensors, grad_tensors, retain_graph, create_graph, grad_variables, inputs)\u001b[0m\n\u001b[1;32m    249\u001b[0m     \u001b[0;31m# some Python versions print out the first line of a multi-line function\u001b[0m\u001b[0;34m\u001b[0m\u001b[0;34m\u001b[0m\u001b[0m\n\u001b[1;32m    250\u001b[0m     \u001b[0;31m# calls in the traceback and some print out the last line\u001b[0m\u001b[0;34m\u001b[0m\u001b[0;34m\u001b[0m\u001b[0m\n\u001b[0;32m--> 251\u001b[0;31m     Variable._execution_engine.run_backward(  # Calls into the C++ engine to run the backward pass\n\u001b[0m\u001b[1;32m    252\u001b[0m         \u001b[0mtensors\u001b[0m\u001b[0;34m,\u001b[0m\u001b[0;34m\u001b[0m\u001b[0;34m\u001b[0m\u001b[0m\n\u001b[1;32m    253\u001b[0m         \u001b[0mgrad_tensors_\u001b[0m\u001b[0;34m,\u001b[0m\u001b[0;34m\u001b[0m\u001b[0;34m\u001b[0m\u001b[0m\n",
            "\u001b[0;31mKeyboardInterrupt\u001b[0m: "
          ]
        }
      ]
    },
    {
      "cell_type": "code",
      "source": [],
      "metadata": {
        "id": "RDoGc-Rjp1Xb"
      },
      "execution_count": null,
      "outputs": []
    },
    {
      "cell_type": "code",
      "source": [
        "torch.cuda.empty_cache()"
      ],
      "metadata": {
        "id": "LF6nuYEjBJis"
      },
      "execution_count": null,
      "outputs": []
    },
    {
      "cell_type": "code",
      "source": [
        "print(train_loss_history[-1], test_loss_history[-1])\n",
        "print(train_loss_history[-10:], test_loss_history[-10:])"
      ],
      "metadata": {
        "colab": {
          "base_uri": "https://localhost:8080/"
        },
        "id": "H3744lm8FP_Z",
        "outputId": "7d84e95a-724c-44e8-a7c0-38a018522bb1"
      },
      "execution_count": null,
      "outputs": [
        {
          "output_type": "stream",
          "name": "stdout",
          "text": [
            "4.60546875 4.60546875\n",
            "[4.60546875, 4.60546875, 4.60546875, 4.60546875, 4.60546875, 4.60546875, 4.60546875, 4.60546875, 4.60546875, 4.60546875] [4.60546875, 4.60546875, 4.60546875, 4.60546875, 4.60546875, 4.60546875, 4.60546875, 4.60546875, 4.60546875, 4.60546875]\n"
          ]
        }
      ]
    },
    {
      "cell_type": "code",
      "source": [
        "torch.rand(5).to(device = device)"
      ],
      "metadata": {
        "id": "unnTgTyUN2z6"
      },
      "execution_count": null,
      "outputs": []
    },
    {
      "cell_type": "code",
      "source": [
        "!nvidia-smi"
      ],
      "metadata": {
        "id": "F82jthgKgxd8"
      },
      "execution_count": null,
      "outputs": []
    },
    {
      "cell_type": "code",
      "source": [
        "for name, param in vgg16_model.named_parameters():\n",
        "    print(f'Name: {name} \\n', param, '\\n\\n')"
      ],
      "metadata": {
        "id": "_g64hJJs9WOR"
      },
      "execution_count": null,
      "outputs": []
    },
    {
      "cell_type": "code",
      "source": [
        "# Testing model on the test data\n",
        "vgg16_model.eval()\n",
        "x_test_batch, y_test_batch = create_batch(test_data_dict, 400)\n",
        "y_test_batch_predicted = get_batch_prediction(vgg16_model, x_test_batch, mode = 'test')\n",
        "y_test_batch = y_test_batch.cpu().numpy()\n",
        "y_test_batch_predicted = [x.cpu() for x in y_test_batch_predicted]\n",
        "accuracy = accuracy_score(y_test_batch, y_test_batch_predicted)\n",
        "precision = precision_score(y_test_batch, y_test_batch_predicted, average='macro')\n",
        "recall = recall_score(y_test_batch, y_test_batch_predicted, average='macro')\n",
        "\n",
        "print(f'Accuracy: {accuracy}, Precision: {precision}, Recall: {recall}')\n",
        "print(y_test_batch)\n",
        "print(y_test_batch_predicted)"
      ],
      "metadata": {
        "id": "UA8_6efPxHLn"
      },
      "execution_count": null,
      "outputs": []
    }
  ]
}